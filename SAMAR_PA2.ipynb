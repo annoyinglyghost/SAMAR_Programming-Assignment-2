{
 "cells": [
  {
   "cell_type": "markdown",
   "id": "9b884057-cf57-439c-89ba-0b5c21591dc8",
   "metadata": {},
   "source": [
    "## EXPERIMENT 2\n",
    "### Numerical Python (NumPy)"
   ]
  },
  {
   "cell_type": "markdown",
   "id": "a977a263-1d1f-4412-96f3-7621b937420c",
   "metadata": {},
   "source": [
    "### Name: Samar, Mariane Izley V. \n",
    "### Section: 2ECE-D                                                                    \n",
    "Date Submitted: Sept. 5, 2024"
   ]
  },
  {
   "cell_type": "markdown",
   "id": "b70b8702-9e9a-46ea-a397-7e2db3925113",
   "metadata": {},
   "source": [
    "###"
   ]
  },
  {
   "cell_type": "markdown",
   "id": "9ca3f043-8c3d-456b-b3e3-bd128ca2a59b",
   "metadata": {},
   "source": [
    "# NORMALIZATION PROBLEM"
   ]
  },
  {
   "cell_type": "code",
   "execution_count": 21,
   "id": "aa888123-004a-40c0-a631-f8562758a434",
   "metadata": {},
   "outputs": [],
   "source": [
    "import numpy as np #importing the numpy library in python to make it easier\n",
    "\n",
    "X = np.random.random((5,5)) #creating a 5x5 ndarray\n",
    "mean = X.mean(axis = 0) #normalizing the array\n",
    "standard = X.std(axis=0) \n",
    "X_normalized = (X-mean) / standard\n",
    "np.save('X_normalized.np', X_normalized) #saving the normalized ndarray"
   ]
  },
  {
   "cell_type": "code",
   "execution_count": 73,
   "id": "178b01d6-3739-45f1-834e-2fe0b93e73dc",
   "metadata": {},
   "outputs": [
    {
     "name": "stdout",
     "output_type": "stream",
     "text": [
      "\n",
      "Original Array:\n",
      " [[0.64156511 0.1230184  0.60655316 0.04444247 0.72318344]\n",
      " [0.16656711 0.81935564 0.40349127 0.31687136 0.92030582]\n",
      " [0.53566196 0.24132417 0.03997732 0.68015088 0.40422194]\n",
      " [0.81209019 0.59454981 0.82132868 0.80160981 0.42817169]\n",
      " [0.74452281 0.41877561 0.17623347 0.21379061 0.49052937]]\n",
      "\n",
      "\n",
      "Normalized Array:\n",
      " [[ 0.27086819 -1.27435459  0.69712636 -1.28587976  0.65379783]\n",
      " [-1.82174993  1.5303828  -0.0213186  -0.33117378  1.64592412]\n",
      " [-0.19569133 -0.79783747 -1.30745249  0.9419112  -0.95155054]\n",
      " [ 1.02212161  0.62490012  1.4570149   1.36755463 -0.8310103 ]\n",
      " [ 0.72445146 -0.08309086 -0.82537017 -0.69241229 -0.51716112]]\n"
     ]
    }
   ],
   "source": [
    "#printing the original and normalized ndarrays\n",
    "print(\"\\nOriginal Array:\\n\", X)\n",
    "print(\"\\n\\nNormalized Array:\\n\", X_normalized)"
   ]
  },
  {
   "cell_type": "markdown",
   "id": "c5fb87b2-2066-459f-8900-bbcc2980173f",
   "metadata": {},
   "source": [
    "###"
   ]
  },
  {
   "cell_type": "markdown",
   "id": "8745c72e-f021-4fab-8e9b-958bb0fa17bf",
   "metadata": {},
   "source": [
    "# DIVISIBLE BY 3 PROBLEM"
   ]
  },
  {
   "cell_type": "code",
   "execution_count": 76,
   "id": "9a5b8288-2b81-431f-851d-db5c572ee067",
   "metadata": {},
   "outputs": [],
   "source": [
    "import numpy as np  #importing the numpy library in python to make it easier\n",
    "\n",
    "A = np.arange(1, 101).reshape(10, 10)**2 #create the 10x10 ndarray with the squares of the first 100 integers\n",
    "div_by_3 = [A%3 == 0] #formula for getting the elements that are divisible by 3\n",
    "np.save('div_by_3.npy', div_by_3) #saving the div_by_3.npy"
   ]
  },
  {
   "cell_type": "code",
   "execution_count": 78,
   "id": "34758ed9-6280-430e-8eda-8680931a9ab7",
   "metadata": {},
   "outputs": [
    {
     "name": "stdout",
     "output_type": "stream",
     "text": [
      "\n",
      "Original Array: \n",
      " [[    1     4     9    16    25    36    49    64    81   100]\n",
      " [  121   144   169   196   225   256   289   324   361   400]\n",
      " [  441   484   529   576   625   676   729   784   841   900]\n",
      " [  961  1024  1089  1156  1225  1296  1369  1444  1521  1600]\n",
      " [ 1681  1764  1849  1936  2025  2116  2209  2304  2401  2500]\n",
      " [ 2601  2704  2809  2916  3025  3136  3249  3364  3481  3600]\n",
      " [ 3721  3844  3969  4096  4225  4356  4489  4624  4761  4900]\n",
      " [ 5041  5184  5329  5476  5625  5776  5929  6084  6241  6400]\n",
      " [ 6561  6724  6889  7056  7225  7396  7569  7744  7921  8100]\n",
      " [ 8281  8464  8649  8836  9025  9216  9409  9604  9801 10000]]\n",
      "\n",
      "\n",
      "The elements divisible by 3: \n",
      " [array([[False, False,  True, False, False,  True, False, False,  True,\n",
      "        False],\n",
      "       [False,  True, False, False,  True, False, False,  True, False,\n",
      "        False],\n",
      "       [ True, False, False,  True, False, False,  True, False, False,\n",
      "         True],\n",
      "       [False, False,  True, False, False,  True, False, False,  True,\n",
      "        False],\n",
      "       [False,  True, False, False,  True, False, False,  True, False,\n",
      "        False],\n",
      "       [ True, False, False,  True, False, False,  True, False, False,\n",
      "         True],\n",
      "       [False, False,  True, False, False,  True, False, False,  True,\n",
      "        False],\n",
      "       [False,  True, False, False,  True, False, False,  True, False,\n",
      "        False],\n",
      "       [ True, False, False,  True, False, False,  True, False, False,\n",
      "         True],\n",
      "       [False, False,  True, False, False,  True, False, False,  True,\n",
      "        False]])]\n"
     ]
    }
   ],
   "source": [
    "print(\"\\nOriginal Array: \\n\", A) #printing the original and the elements divisible by 3\n",
    "print(\"\\n\\nThe elements divisible by 3: \\n\", div_by_3)"
   ]
  },
  {
   "cell_type": "code",
   "execution_count": null,
   "id": "f7befefd-d6ef-4e6e-922b-f766ab82302a",
   "metadata": {},
   "outputs": [],
   "source": []
  }
 ],
 "metadata": {
  "kernelspec": {
   "display_name": "Python 3 (ipykernel)",
   "language": "python",
   "name": "python3"
  },
  "language_info": {
   "codemirror_mode": {
    "name": "ipython",
    "version": 3
   },
   "file_extension": ".py",
   "mimetype": "text/x-python",
   "name": "python",
   "nbconvert_exporter": "python",
   "pygments_lexer": "ipython3",
   "version": "3.12.4"
  }
 },
 "nbformat": 4,
 "nbformat_minor": 5
}
