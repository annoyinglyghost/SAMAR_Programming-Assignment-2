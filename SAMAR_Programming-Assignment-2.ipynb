{
 "cells": [
  {
   "cell_type": "markdown",
   "id": "9b884057-cf57-439c-89ba-0b5c21591dc8",
   "metadata": {},
   "source": [
    "## EXPERIMENT 2\n",
    "### Numerical Python (NumPy)"
   ]
  },
  {
   "cell_type": "markdown",
   "id": "a977a263-1d1f-4412-96f3-7621b937420c",
   "metadata": {},
   "source": [
    "### Name: Samar, Mariane Izley V. \n",
    "### Section: 2ECE-D                                                                    \n",
    "Date Submitted: Sept. 5, 2024"
   ]
  },
  {
   "cell_type": "markdown",
   "id": "b70b8702-9e9a-46ea-a397-7e2db3925113",
   "metadata": {},
   "source": [
    "###"
   ]
  },
  {
   "cell_type": "markdown",
   "id": "9ca3f043-8c3d-456b-b3e3-bd128ca2a59b",
   "metadata": {},
   "source": [
    "# NORMALIZATION PROBLEM"
   ]
  },
  {
   "cell_type": "code",
   "execution_count": 86,
   "id": "aa888123-004a-40c0-a631-f8562758a434",
   "metadata": {},
   "outputs": [],
   "source": [
    "import numpy as np #importing the numpy library in python to make it easier\n",
    "\n",
    "X = np.random.random((5,5)) #creating a 5x5 ndarray\n",
    "mean = X.mean() #normalizing the array\n",
    "standard = X.std() \n",
    "X_normalized = (X-mean) / standard\n",
    "np.save('X_normalized.np', X_normalized) #saving the normalized ndarray"
   ]
  },
  {
   "cell_type": "code",
   "execution_count": 88,
   "id": "178b01d6-3739-45f1-834e-2fe0b93e73dc",
   "metadata": {},
   "outputs": [
    {
     "name": "stdout",
     "output_type": "stream",
     "text": [
      "\n",
      "Original Array:\n",
      " [[0.35370423 0.14102794 0.21697392 0.75967071 0.85414712]\n",
      " [0.88626003 0.93113603 0.24329288 0.98538888 0.43856947]\n",
      " [0.5646169  0.18362944 0.09747255 0.43692319 0.89591563]\n",
      " [0.9087983  0.26234681 0.8902858  0.38585981 0.30586228]\n",
      " [0.2166359  0.74966693 0.01217931 0.45349488 0.5684197 ]]\n",
      "\n",
      "\n",
      "Normalized Array:\n",
      " [[-0.51401478 -1.2148348  -0.96457433  0.82374337  1.13506608]\n",
      " [ 1.24088592  1.38876325 -0.87784696  1.56753956 -0.23436318]\n",
      " [ 0.18099369 -1.0744525  -1.35836039 -0.23978809  1.27270348]\n",
      " [ 1.31515499 -0.81505966  1.25415182 -0.40805432 -0.6716656 ]\n",
      " [-0.96568819  0.79077847 -1.63942233 -0.18518036  0.19352486]]\n"
     ]
    }
   ],
   "source": [
    "#printing the original and normalized ndarrays\n",
    "print(\"\\nOriginal Array:\\n\", X)\n",
    "print(\"\\n\\nNormalized Array:\\n\", X_normalized)"
   ]
  },
  {
   "cell_type": "markdown",
   "id": "c5fb87b2-2066-459f-8900-bbcc2980173f",
   "metadata": {},
   "source": [
    "###"
   ]
  },
  {
   "cell_type": "markdown",
   "id": "8745c72e-f021-4fab-8e9b-958bb0fa17bf",
   "metadata": {},
   "source": [
    "# DIVISIBLE BY 3 PROBLEM"
   ]
  },
  {
   "cell_type": "code",
   "execution_count": 76,
   "id": "9a5b8288-2b81-431f-851d-db5c572ee067",
   "metadata": {},
   "outputs": [],
   "source": [
    "import numpy as np  #importing the numpy library in python to make it easier\n",
    "\n",
    "A = np.arange(1, 101).reshape(10, 10)**2 #create the 10x10 ndarray with the squares of the first 100 integers\n",
    "div_by_3 = [A%3 == 0] #formula for getting the elements that are divisible by 3\n",
    "np.save('div_by_3.npy', div_by_3) #saving the div_by_3.npy"
   ]
  },
  {
   "cell_type": "code",
   "execution_count": 78,
   "id": "34758ed9-6280-430e-8eda-8680931a9ab7",
   "metadata": {},
   "outputs": [
    {
     "name": "stdout",
     "output_type": "stream",
     "text": [
      "\n",
      "Original Array: \n",
      " [[    1     4     9    16    25    36    49    64    81   100]\n",
      " [  121   144   169   196   225   256   289   324   361   400]\n",
      " [  441   484   529   576   625   676   729   784   841   900]\n",
      " [  961  1024  1089  1156  1225  1296  1369  1444  1521  1600]\n",
      " [ 1681  1764  1849  1936  2025  2116  2209  2304  2401  2500]\n",
      " [ 2601  2704  2809  2916  3025  3136  3249  3364  3481  3600]\n",
      " [ 3721  3844  3969  4096  4225  4356  4489  4624  4761  4900]\n",
      " [ 5041  5184  5329  5476  5625  5776  5929  6084  6241  6400]\n",
      " [ 6561  6724  6889  7056  7225  7396  7569  7744  7921  8100]\n",
      " [ 8281  8464  8649  8836  9025  9216  9409  9604  9801 10000]]\n",
      "\n",
      "\n",
      "The elements divisible by 3: \n",
      " [array([[False, False,  True, False, False,  True, False, False,  True,\n",
      "        False],\n",
      "       [False,  True, False, False,  True, False, False,  True, False,\n",
      "        False],\n",
      "       [ True, False, False,  True, False, False,  True, False, False,\n",
      "         True],\n",
      "       [False, False,  True, False, False,  True, False, False,  True,\n",
      "        False],\n",
      "       [False,  True, False, False,  True, False, False,  True, False,\n",
      "        False],\n",
      "       [ True, False, False,  True, False, False,  True, False, False,\n",
      "         True],\n",
      "       [False, False,  True, False, False,  True, False, False,  True,\n",
      "        False],\n",
      "       [False,  True, False, False,  True, False, False,  True, False,\n",
      "        False],\n",
      "       [ True, False, False,  True, False, False,  True, False, False,\n",
      "         True],\n",
      "       [False, False,  True, False, False,  True, False, False,  True,\n",
      "        False]])]\n"
     ]
    }
   ],
   "source": [
    "print(\"\\nOriginal Array: \\n\", A) #printing the original and the elements divisible by 3\n",
    "print(\"\\n\\nThe elements divisible by 3: \\n\", div_by_3)"
   ]
  }
 ],
 "metadata": {
  "kernelspec": {
   "display_name": "Python 3 (ipykernel)",
   "language": "python",
   "name": "python3"
  },
  "language_info": {
   "codemirror_mode": {
    "name": "ipython",
    "version": 3
   },
   "file_extension": ".py",
   "mimetype": "text/x-python",
   "name": "python",
   "nbconvert_exporter": "python",
   "pygments_lexer": "ipython3",
   "version": "3.12.4"
  }
 },
 "nbformat": 4,
 "nbformat_minor": 5
}
